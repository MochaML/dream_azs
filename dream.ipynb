{
 "cells": [
  {
   "cell_type": "markdown",
   "metadata": {},
   "source": [
    "# Understanding molecular bases of drug response and drug synergy\n",
    "Understanding synergistic effects of drugs is key to develop effective intervention strategies targeting diseases (such as AD or T2D or both) and provides unprecedented opportunities to repurpose existing drugs. The AstraZeneca-Sanger Drug Combination Prediction DREAM Challenge provides a rich data source aiming to understand the synergistic drug behavior based on pretreatment data and spans cell viability data over 118 drugs and 85 cancer cell lines (primarily colon, lung, and breast). In collaborating with Dr. Baldo Oliva's group at GRIB, UPF-IMIM, we have been working on identifying the effects of confounding factors in the data set such as dosage and genetic background of the cell lines and developing algorithms that can predict the individual and synergistic effects of drugs. \n",
    "\n",
    "The challenge has two subtasks: predicting drug synergy *(i)* using mono synergy data *(ii)* without using mono synergy data. The participants are free to use any other data source (such as cell line gene expression, gene mutation, drug target information provided in the challenge or external data sets) and submit their predictions in 3-4 rounds. The other task of the challenge requires making predictions for drug combinations and cell lines for which no previous training data available (making it hard to build a machine learning predictor). \n",
    "\n",
    "Check challenge info and timelines at https://www.synapse.org/#!Synapse:syn4231880/wiki/235652\n",
    "\n",
    "Next deadline (for both tasks): January, 26th 2015\n",
    "\n",
    "<For the first round of the challenge, we have build machine learning models to predict the synergy of drugs for both of these tasks and choice the best performing models to submit predictions. Among various machine learning models, we found a combination of bootstrapped and ensemble tree-based predictors achieved best performance on the training data set for. \n",
    "\n",
    "To improve the prediction performance we have incorporated mutation data (of drug targets in a given cell line) and interactome based contribution of the drug combination compared to the effect of drugs separately. To assess interactome based contribution of a drug or combination (characterized by a set of targets), we have used GUILD, a network-based functional prioritization tool. \n",
    "\n",
    "Interestingly, using GUILD, only the predictions for subtask *(ii)* improved but not for subtask *(i)*. We suspect this is due to the mono therapy response data describing the synergy best and addition of new features (such as the ones based on expression, mutation, interactome) potentially causing the predictor to overfit to the training data set.>\n",
    "\n",
    "## Data overview\n",
    "\n",
    "Challenge training data consists of 2199 samples providing information on 169 drug pairs over 85 cell lines."
   ]
  },
  {
   "cell_type": "code",
   "execution_count": 42,
   "metadata": {
    "collapsed": false
   },
   "outputs": [
    {
     "name": "stdout",
     "output_type": "stream",
     "text": [
      "[1] \"Number of samples: 2199\"\n",
      "[1] \"Number of drug pairs: 169, number of cell lines: 85\"\n",
      "[1] \"Features: CELL_LINE, COMPOUND_A, COMPOUND_B, MAX_CONC_A, MAX_CONC_B, IC50_A, H_A, Einf_A, IC50_B, H_B, Einf_B, SYNERGY_SCORE, QA, COMBINATION_ID\"\n"
     ]
    }
   ],
   "source": [
    "source(\"dream.R\")\n",
    "parameters = initialize()\n",
    "dat = overview(parameters, summarize=F)"
   ]
  },
  {
   "cell_type": "markdown",
   "metadata": {},
   "source": [
    "## Data cleaning and imputation\n",
    "\n",
    "- Filter samples with low quality (404 samples):\n",
    "$$QA < 1$$\n",
    "\n",
    "- Filter samples with low sensitivity (3 cell lines) based on the observation that higher Einf correlates with lower synergy. Define Einf of the drug pair A,B as follows:\n",
    "$$min((Einf_A + Einf_B) / 2)$$ \n",
    "\n",
    "- Filter correlated features (None):\n",
    "$$ PCC > 0.75 $$\n",
    "\n",
    "Both min (-588.221) and max (6737.175) synergy instances have low quality. After filtering synergy scores range between -179 and 237.\n",
    "\n",
    "- Impute missing values using k-nearest-neighbor ($k = 5$)"
   ]
  },
  {
   "cell_type": "code",
   "execution_count": 43,
   "metadata": {
    "collapsed": false
   },
   "outputs": [
    {
     "name": "stdout",
     "output_type": "stream",
     "text": [
      "[1] \"Correlated features:\"\n",
      "[1] \"Correlation between einf.min and syn.med: -0.235249 0.031231\"\n",
      "[1] \"Insensitive cell lines: 22RV1, KU-19-19, VCaP\"\n",
      "[1] \"Number of samples with QA < 1: 404, Einf > 40: 7\"\n"
     ]
    }
   ],
   "source": [
    "dat = filter(dat, cutoff=40)"
   ]
  },
  {
   "cell_type": "markdown",
   "metadata": {},
   "source": [
    "## Feature definition and prediction models\n",
    "\n",
    "***Baseline prediction***\n",
    "\n",
    "- Monotherapy response based\n",
    "    * max concentration\n",
    "    * viability at max kill\n",
    "    * IC50 \n",
    "    * slope of the fit to the dose response curve\n",
    "    \n",
    "***Expression based***\n",
    "\n",
    "- The average gene expression of the targets of two drugs in the cell line\n",
    "    * $gexp = abs(gexpA - gexpB)$, where for each cell line where gexpT is\n",
    "    \n",
    "$$ gexp(T, cell) = \\frac{1}{||T||} * \\sum_{t \\in targets(T)} E(t, cell) $$ where $E$ is the gene expression matrix, $T$ is the drug tested in a given $cell$ line. Expression values are converted to z-scores and absolute value of the z-score is used. \n",
    "\n",
    "***Mutation based***\n",
    "\n",
    "- The average mutation score of the targets of the two drugs in the cell line\n",
    "    * $mut = abs(mutA - mutB)$ , where for each cell line where mutT is\n",
    "    \n",
    "$$ mut(T, cell) = \\frac{1}{||T||} * \\sum_{t \\in targets(T)} M(t, cell) $$ where $M$ is the mutation, $T$ is the drug tested in a given $cell$ line. Genes are assigned mutation score based on the \"Description\" field in the annotation file (0 if the mutation is silent or of unknown impact, 2 if the mutation is associated to cancer with respect to FATHMM prediction and 1 otherwise). Impute missing values using k-nearest-neighbor ($k = 5$).\n",
    "\n",
    "***GUILD based***\n",
    "\n",
    "- The network-impact score distribution of the genes in the overlap between top 500 genes in GUILD-based prioritization of drug targets of A and B, respectively. \n",
    "    * guild.med (median of the distribution of the network impact)\n",
    "    * guild.max \n",
    "\n",
    "The network-impact is calculated as\n",
    "$$ impact(A,B) = GUILD({A,B}) - (GUILD(A) + GUILD(B)) / 2 $$ where $GUILD(X)$, is the GUILD scores of the genes when genes in X are used as seeds. Top scoring 500 genes common in $GUILD(A)$ and $GUILD(B)$ are considered to calculate the impact score distribution.\n",
    "    \n",
    "***Drug similarity based***\n",
    "\n",
    "- If the drugs are similar, the effect is expected to be synergistic (i.e. Loewe additivity)\n",
    "    * sim.target: common targets\n",
    "        $$ sim(A, B) = \\frac{T(A) \\cap T(B)}{T(A) \\cup T(B)}  $$\n",
    "        \n",
    "    * sim.chemical: chemical formula similarity, calculated using Tanimota similarity coefficient (Jaccard index of molecular fingerprints)\n",
    "\n",
    "***KEGG pathways***\n",
    "\n",
    "- Cancer related from  KEGG pathways. These pathways are \"pathways in cancer\", \"aminoacyl-tRNA biosynthesis\", \"MAPK signaling pathway\", \"NF-kappa B signaling pathway\". For genes in these pathways,\n",
    "    * involvement of drug targets in these pathways (kegg.in, 2: targets of both drugs in combination are in the pathway, 1: only targets of one are in the pathway, 0: none of the targets are in the pathway)\n",
    "    * gene expression (kegg.gexp.med and kegg.gexp.max: the median and max of the distribution)\n",
    "    * mutation (kegg.mut.med and kegg.mut.max)\n",
    "    * CNV (kegg.cnv.med and kegg.cnv.max)\n",
    "    \n",
    "***Cancer genes***\n",
    "\n",
    "- COSMIC genes from http://cancer.sanger.ac.uk/census/ (572 genes).\n",
    "    * involvement of drug targets in these pathways (cosmic.in)\n",
    "    * gene expression (cosmic.gexp.med and cosmic.gexp.max)\n",
    "    * mutation (cosmic.mut.med and cosmic.mut.max)\n",
    "    * CNV (cosmic.cnv.med and cosmic.cnv.max)\n",
    "\n",
    "***Combined***\n",
    "\n",
    "- The best performing combination of features using RandomForest and Generalized Boosted Regression Models:\n",
    "    + gexp\n",
    "    + mut\n",
    "    + cnv\n",
    "    + guild.med\n",
    "    + guild.max\n",
    "    + sim.target\n",
    "    + sim.chemical\n",
    "    + kegg.in\n",
    "    + cosmic.in"
   ]
  },
  {
   "cell_type": "code",
   "execution_count": 44,
   "metadata": {
    "collapsed": false
   },
   "outputs": [
    {
     "data": {
      "text/html": [
       "<table>\n",
       "<thead><tr><th></th><th scope=col>features</th><th scope=col>correlation</th></tr></thead>\n",
       "<tbody>\n",
       "\t<tr><th scope=row>1</th><td>gexp, mut</td><td>19.7</td></tr>\n",
       "\t<tr><th scope=row>2</th><td>gexp, mut, cnv</td><td>28.2</td></tr>\n",
       "\t<tr><th scope=row>3</th><td>gexp, mut, cnv, guild</td><td>35.2</td></tr>\n",
       "\t<tr><th scope=row>4</th><td>gexp, mut, cnv, guild(2), sim(2)</td><td>41.3</td></tr>\n",
       "\t<tr><th scope=row>5</th><td>gexp, mut, cnv, guild(2), sim(2), kegg.in, cosmic.in</td><td>44.9</td></tr>\n",
       "</tbody>\n",
       "</table>\n"
      ],
      "text/latex": [
       "\\begin{tabular}{r|ll}\n",
       "  & features & correlation\\\\\n",
       "\\hline\n",
       "\t1 & gexp, mut & 19.7\\\\\n",
       "\t2 & gexp, mut, cnv & 28.2\\\\\n",
       "\t3 & gexp, mut, cnv, guild & 35.2\\\\\n",
       "\t4 & gexp, mut, cnv, guild(2), sim(2) & 41.3\\\\\n",
       "\t5 & gexp, mut, cnv, guild(2), sim(2), kegg.in, cosmic.in & 44.9\\\\\n",
       "\\end{tabular}\n"
      ],
      "text/plain": [
       "                                              features correlation\n",
       "1                                            gexp, mut        19.7\n",
       "2                                       gexp, mut, cnv        28.2\n",
       "3                                gexp, mut, cnv, guild        35.2\n",
       "4                     gexp, mut, cnv, guild(2), sim(2)        41.3\n",
       "5 gexp, mut, cnv, guild(2), sim(2), kegg.in, cosmic.in        44.9"
      ]
     },
     "execution_count": 44,
     "metadata": {},
     "output_type": "execute_result"
    }
   ],
   "source": [
    "results(parameters)"
   ]
  },
  {
   "cell_type": "markdown",
   "metadata": {},
   "source": [
    "## Final predictors and confidence assignment\n",
    "\n",
    ">***Predictor for challenge 1 subtask 1*** \n",
    "The best performing predictor using the response data and the features above achieves an accuracy (assessed by correlation between predicted and observed synergy scores) of 0.41 in the training set. Note that this value fluctuates depending on the folds used in cross validation (+/- 0.10). \n",
    "\n",
    ">***Predictor for challenge 1 subtask 2*** \n",
    "Achieves an accuracy (assessed by correlation between predicted and observed synergy scores) of 0.45\n",
    "    \n",
    ">***Predictor for challenge 2*** \n",
    "This challenge requires predicting drug combinations and cell lines for which no previous training data is available, thus makes it harder to find features that would work over all the test data (due to the missing values). The predictor achieves a correlation of 0.29\n",
    "\n",
    ">***Confidence assignment***\n",
    "We observed that the predictions tend to fail for higher synergy scores, accordingly we defined the following confidence scoring:\n",
    "$$confidence = 1 - abs(synergy) / max(abs(synergy))$$\n",
    "\n",
    "## DREAM evaluation \n",
    "\n",
    ">The global correlation values from DREAM (assessed by real values in the test set) are substantially lower than the correlation values in the training set (assessed by model development on 70% of the training data using cross validation and validation using 30% of the data).\n",
    "* Challenge 1 subtask 1: 0.13 (global), 0.19 (mean of top 10-20-30%), \n",
    "* Challenge 1 subtask 2: 0.09 (global), 0.03 (mean of top 10-20-30%)\n",
    "* Challenge 2: TBA\n",
    "* Overall ranking: ~50% of all submissions\n",
    "\n",
    "## TODO\n",
    "\n",
    "- Update the categorical prediction for challenge 2, need to balance the training set (0: 80%, 1: 20%)\n",
    "- Check scoring evaluation details announced by DREAM\n",
    "- Consider confidence scoring based on the sensitivity of the cell lines\n",
    "- Use several features proposed in Sun et al., 2015, Nat Comms \"Combining genomic and network characteristics for extended capability in predicting synergistic drugs for cancer\" http://www.nature.com/ncomms/2015/150928/ncomms9481/full/ncomms9481.html\n",
    "    + MI GO BP\n",
    "    + Unrelated pathway ratio\n",
    "    + distance between targets in PPI\n",
    "    + degree & centrality in PPI\n",
    "- Incorporate external data / synergy modeling"
   ]
  },
  {
   "cell_type": "code",
   "execution_count": null,
   "metadata": {
    "collapsed": true
   },
   "outputs": [],
   "source": []
  }
 ],
 "metadata": {
  "kernelspec": {
   "display_name": "R",
   "language": "R",
   "name": "ir"
  },
  "language_info": {
   "codemirror_mode": "r",
   "file_extension": ".r",
   "mimetype": "text/x-r-source",
   "name": "R",
   "pygments_lexer": "r",
   "version": "3.2.2"
  }
 },
 "nbformat": 4,
 "nbformat_minor": 0
}
