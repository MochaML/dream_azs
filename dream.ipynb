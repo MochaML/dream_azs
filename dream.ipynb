{
 "cells": [
  {
   "cell_type": "markdown",
   "metadata": {},
   "source": [
    "# Understanding molecular bases of drug response and drug synergy\n",
    "Understanding synergistic effects of drugs is key to develop effective intervention strategies targeting diseases (such as AD or T2D or both) and provides unprecedented opportunities to repurpose existing drugs. The AstraZeneca-Sanger Drug Combination Prediction DREAM Challenge provides a rich data source aiming to understand the synergistic drug behavior based on pretreatment data and spans cell viability data over 118 drugs and 85 cancer cell lines (primarily colon, lung, and breast). In collaborating with Dr. Baldo Oliva's group at GRIB, UPF-IMIM, we have been working on identifying the effects of confounding factors in the data set such as dosage and genetic background of the cell lines and developing algorithms that can predict the individual and synergistic effects of drugs. \n",
    "\n",
    "The first challenge has two subtasks: predicting drug synergy *(i)* using mono synergy data *(ii)* without using mono synergy and gene expression data. The participants are free to use any other data source (such as cell line data, gene mutation, drug target information provided in the challenge or external data sets) and submit their predictions in 3-4 rounds, which is followed by a final round. The second challenge requires making predictions for drug combinations and cell lines for which no previous training data available (making it hard to build a machine learning predictor). \n",
    "\n",
    "Check challenge info and timelines at https://www.synapse.org/#!Synapse:syn4231880/wiki/235652\n",
    "\n",
    "Next deadline (for both tasks): March, 14th 2016 (Final round)\n",
    "\n",
    "<For the first round of the challenge, we have build machine learning models to predict the synergy of drugs for both of these tasks and choice the best performing models to submit predictions. Among various machine learning models, we found a combination of bootstrapped and ensemble tree-based predictors achieved best performance on the training data set for. \n",
    "\n",
    "To improve the prediction performance we have incorporated mutation data (of drug targets in a given cell line) and interactome based contribution of the drug combination compared to the effect of drugs separately. To assess interactome based contribution of a drug or combination (characterized by a set of targets), we have used GUILD, a network-based functional prioritization tool. \n",
    "\n",
    "Interestingly, using GUILD, only the predictions for subtask *(ii)* improved but not for subtask *(i)*. We suspect this is due to the mono therapy response data describing the synergy best and addition of new features (such as the ones based on expression, mutation, interactome) potentially causing the predictor to overfit to the training data set.>\n",
    "\n",
    "## Data overview\n",
    "\n",
    "Challenge training data consists of 2199 samples providing information on 169 drug pairs over 85 cell lines."
   ]
  },
  {
   "cell_type": "code",
   "execution_count": 5,
   "metadata": {
    "collapsed": false
   },
   "outputs": [
    {
     "name": "stdout",
     "output_type": "stream",
     "text": [
      "[1] \"Number of samples: 2199\"\n",
      "[1] \"Number of drug pairs: 169, number of cell lines: 85\"\n",
      "[1] \"Features: CELL_LINE, COMPOUND_A, COMPOUND_B, MAX_CONC_A, MAX_CONC_B, IC50_A, H_A, Einf_A, IC50_B, H_B, Einf_B, SYNERGY_SCORE, QA, COMBINATION_ID\"\n"
     ]
    }
   ],
   "source": [
    "source(\"dream.R\")\n",
    "parameters = initialize()\n",
    "dat = overview(parameters, summarize=F)"
   ]
  },
  {
   "cell_type": "markdown",
   "metadata": {},
   "source": [
    "## Data cleaning, preprocessing and imputation\n",
    "\n",
    "- Filter samples with low quality (404 samples):\n",
    "$$QA < 1$$\n",
    "\n",
    "\n",
    "- Filter samples with low sensitivity (3 cell lines) based on the observation that higher Einf correlates with lower synergy. Define Einf of the drug pair A,B as follows:\n",
    "$$min((Einf_A + Einf_B) / 2)$$ \n",
    "\n",
    "\n",
    "- Filter correlated features (None):\n",
    "$$ PCC > 0.75 $$\n",
    "\n",
    "Both min (-588.221) and max (6737.175) synergy instances have low quality. After filtering synergy scores range between -179 and 237.\n",
    "\n",
    "- Filter instances in which CNV values are NA\n",
    "\n",
    "- Scale all the features using z-score transformation (centered and scaled by standard deviation)\n",
    "\n",
    "\n",
    "- Impute missing values using k-nearest-neighbor ($k = 5$)\n",
    "\n",
    "\n",
    "- (For challange 2) The synergy values are categorized as follows:\n",
    "$$\n",
    "category = \\{\n",
    "\\begin{array}{cl}\n",
    "1, & if~synergy > 20 \\\\\\\n",
    "0, & otherwise\n",
    "\\end{array}\n",
    "$$\n",
    "The negative cases ($P = \\{x: x=0\\}$, where x corresponds to the synergy category of the instance) are more abundant than positive cases ($ N = \\{x: x=1\\}$, ~80% vs ~20%). Accordingly, we balanced the data set such that $|P| = |S|$."
   ]
  },
  {
   "cell_type": "code",
   "execution_count": 6,
   "metadata": {
    "collapsed": false
   },
   "outputs": [
    {
     "name": "stdout",
     "output_type": "stream",
     "text": [
      "[1] \"Correlated features:\"\n",
      "[1] \"Correlation between einf.min and syn.med: -0.235249 0.031231\"\n",
      "[1] \"Insensitive cell lines: 22RV1, KU-19-19, VCaP\"\n",
      "[1] \"Number of samples with QA < 1: 404, Einf > 40: 7\"\n"
     ]
    }
   ],
   "source": [
    "dat = filter(dat, cutoff=40)"
   ]
  },
  {
   "cell_type": "markdown",
   "metadata": {},
   "source": [
    "## Target prediction\n",
    "\n",
    "We use SMILES and target information of all drugs in DrugBank to predict targets of the drugs in the data set (Drug_info_release). The Tanimoto coefficient between aromitized SMILES of drugs is used to define similarity (Tanimoto coefficient cutoff=0.6). We calculate a Fisher's based enrichment score to find the overrepresented targets between similar SMILES (FDR cutoff=20% after Benjamini Hochberg multiple hypothesis test correction procedure). We also manually checked PubChem for targets and used HitPick server to find drug targets. We considered SEA for target prediction but then did not use it since (i) it did not offer a batch run mode (for multiple querries at a time) and (ii) its predictions seemed overlapping (~promiscous). Predicted targets are used as seeds while running GUILD, accordingly only taken into account in GUILD-based features. The drug targets span 171 genes (after manual curation) and 212 genes after SMILES based prediction.\n",
    "\n",
    "\n",
    "## Feature definition\n",
    "\n",
    "***Baseline prediction***\n",
    "\n",
    "- Monotherapy response based\n",
    "    * max concentration\n",
    "    * viability at max kill\n",
    "    * IC50 \n",
    "    * slope of the fit to the dose response curve\n",
    "    \n",
    "***Expression based***\n",
    "\n",
    "Expression values of each gene in a given cell line are converted to z-scores using the average/s.d. of the distribution of the gene's expression over all the cell lines.\n",
    "\n",
    "- The average gene expression of the targets of two drugs in the cell line\n",
    "    * $gexp = gexpA * gexpB$, where for each cell line where gexpA is the average expression of A's targets T, that is\n",
    "    \n",
    "$$ gexp(T, cell) = median \\{ t \\in targets(T) | E(t, cell) \\} $$ where $E$ is the gene expression matrix, $T$ is the drug tested in a given $cell$ line.\n",
    "\n",
    "- For each drug target, the sum of expression in the cell line if it is the target of one of the two drugs in the combination (171 features)\n",
    "    * $gexpT = \\sum_{T \\in all~targets} X_T * gexp(T, cell)$, where X_T is the number of drugs in the combination for which T is a target. \"All targets\" are all 212 the targets in the data set (Drug info release + SMILES based target prediction).\n",
    "\n",
    "***Methylation based***\n",
    "\n",
    "M-values of each gene (loci are mapped to nearest genes) in a given cell line are converted to z-scores using the average/s.d. of the distribution of the values over all the cell lines.\n",
    "\n",
    "- The average methylation of the targets of two drugs in the cell line\n",
    "    * $met = metA * metB$, where for each cell line where metA is the median M-value of A's targets T, that is\n",
    "    \n",
    "$$ met(T, cell) = median \\{ t \\in targets(T) | R(t, cell) \\} $$ where $R$ is the methylation matrix, $T$ is the drug tested in a given $cell$ line.\n",
    "\n",
    "***Mutation based***\n",
    "\n",
    "- The average mutation score of the targets of the two drugs in the cell line\n",
    "    * $mut = abs(mutA - mutB)$ , where for each cell line where mutT is\n",
    "    \n",
    "$$ mut(T, cell) = median \\{ t \\in targets(T) | M(t, cell) \\} $$ where $M$ is the mutation, $T$ is the drug tested in a given $cell$ line. Genes are assigned mutation score based on the \"Description\" field in the annotation file (0 if the mutation is silent or of unknown impact, 2 if the mutation is associated to cancer with respect to FATHMM prediction and 1 otherwise). Impute missing values using k-nearest-neighbor ($k = 5$).\n",
    "\n",
    "- For each drug target, the sum of mutation scores in the cell line if it is the target of one of the two drugs in the combination (171 features)\n",
    "\n",
    "***Copy number variation based***\n",
    "- The difference between the copy number variation (max in case of difference in diploid copy) of the targets of the two drugs in the cell line\n",
    "    * $cnv = abs(cnvA - cnvB)$ , where for each cell line where cnvT is\n",
    "    \n",
    "$$ cnv(T, cell) = \\{ t \\in targets(T) | C(t, cell) \\} $$ where $C$ is the copy number, $T$ is the drug tested in a given $cell$ line. Impute missing values using k-nearest-neighbor ($k = 5$).\n",
    "\n",
    "- For each drug target, the sum of CNV scores in the cell line if it is the target of one of the two drugs in the combination (171 features)\n",
    "\n",
    "***Interactome based***\n",
    "\n",
    "- The network-impact score distribution of the genes in the overlap between top 500 genes in GUILD-based prioritization of drug targets of A and B, respectively. \n",
    "    * guild.common (number of common genes)\n",
    "    * guild.med (mean of the distribution of the network impact)\n",
    "    * guild.max (mean of the distribution)\n",
    "\n",
    "The network-impact is calculated as\n",
    "$$ impact(A,B) = GUILD({A,B}) - (GUILD(A) + GUILD(B)) / 2 $$ where $GUILD(X)$, is the GUILD scores of the genes when genes in X are used as seeds. Top scoring 500 genes common in $GUILD(A)$ and $GUILD(B)$ are considered to calculate the impact score distribution.\n",
    "\n",
    "- Target degree based\n",
    "    + difference ($abs(kA-kB)$) \n",
    "    + max ($max(kA, kB)$) \n",
    "    + min ($min(kA, kB)$)\n",
    "\n",
    "- Distance between targets: d(A, B)\n",
    "    \n",
    "***Drug similarity based***\n",
    "\n",
    "- If the drugs are similar, the effect is expected to be synergistic (i.e. Loewe additivity)\n",
    "    * sim.target: common targets\n",
    "        $$ sim(A, B) = \\frac{T(A) \\cap T(B)}{T(A) \\cup T(B)}  $$\n",
    "        \n",
    "    * sim.chemical: chemical formula similarity, calculated using Tanimota similarity coefficient (Jaccard index of molecular fingerprints). \n",
    "\n",
    "***KEGG pathways***\n",
    "\n",
    "- Cancer related from  KEGG pathways. These pathways are \"pathways in cancer\", \"aminoacyl-tRNA biosynthesis\", \"MAPK signaling pathway\", \"NF-kappa B signaling pathway\". For genes in these pathways,\n",
    "    * involvement of drug targets in these pathways (kegg.in, 2: targets of both drugs in combination are in the pathway, 1: only targets of one are in the pathway, 0: none of the targets are in the pathway)\n",
    "    * gene expression (kegg.gexp.med and kegg.gexp.max: the median and max of the distribution)\n",
    "    * mutation (kegg.mut.med and kegg.mut.max)\n",
    "    * CNV (kegg.cnv.med and kegg.cnv.max)\n",
    "    \n",
    "***Cancer genes***\n",
    "\n",
    "- COSMIC genes from http://cancer.sanger.ac.uk/census/ (572 genes).\n",
    "    * involvement of drug targets in these pathways (cosmic.in)\n",
    "    * gene expression (cosmic.gexp.med and cosmic.gexp.max)\n",
    "    * mutation (cosmic.mut.med and cosmic.mut.max)\n",
    "    * CNV (cosmic.cnv.med and cosmic.cnv.max)\n",
    "\n",
    "***Categorized features***\n",
    "\n",
    "- For each pathway gene (74 genes in COSMIC + KEGG pathways above), we create an individual feature denoting whether the drug target is that pathway gene\n",
    "- For each drug target (171 genes w/o predictions), we create an individual feature for the following\n",
    "    * .gexp (expression for that target on that cell line)\n",
    "    * .mut (0/1/2 for that target on that cell line)\n",
    "    * .met (M-value for that target on that cell line)\n",
    "    * .cnv (average CNV for that target on that cell line)\n",
    "    * .zygosity (from CNV, \"H\": 0, \"LOH\": 1, \"0\": 2 for that target on that cell line)\n",
    "    \n",
    "***Combined***\n",
    "- Features used in the final models (unless otherwise stated below)\n",
    "    + gexp\n",
    "    + mut\n",
    "    + cnv\n",
    "    + guild.common\n",
    "    + guild.med\n",
    "    + guild.max\n",
    "    + sim.target\n",
    "    + sim.chemical\n",
    "    + kegg.in\n",
    "    + cosmic.in\n",
    "    + .gexp(171)\n",
    "    + .mut(171)\n",
    "    + .cnv(171)\n",
    "    + .zygosity(171)\n",
    "    + .pathway(74)\n",
    "    + k.diff\n",
    "    + k.min\n",
    "    + k.max\n",
    "    + dAB\n",
    "    \n",
    "## Feature definition and prediction models\n",
    "\n",
    "- For ~~challange 1~~ both challenges, the best performing model was using RandomForest and Generalized Boosted Regression Models with the combination of features above\n",
    "\n",
    "- ~~For challange 2, generalized linear model was used~~\n"
   ]
  },
  {
   "cell_type": "code",
   "execution_count": 1,
   "metadata": {
    "collapsed": false
   },
   "outputs": [
    {
     "ename": "ERROR",
     "evalue": "Error in eval(expr, envir, enclos): could not find function \"results\"\n",
     "output_type": "error",
     "traceback": [
      "Error in eval(expr, envir, enclos): could not find function \"results\"\n"
     ]
    }
   ],
   "source": [
    "results(parameters)"
   ]
  },
  {
   "cell_type": "markdown",
   "metadata": {},
   "source": [
    "\\# 8 above is under consideration for Round 4\n",
    "\n",
    "Round 3 is better than 4. Could be due to\n",
    "- drug target info change\n",
    "- expression abs / definition change\n",
    "- cnv definition change\n",
    "- used combination of features\n",
    "\n",
    "## General considerations\n",
    "* The training set performance does not necessarily correlate with evaluation set performance (e.g., [R3] outperforms [R2] in the above table on DREAM's evaluation)\n",
    "* The predictor is more robust if the rf and gbm have similar training set performance (rather than combined performance). That is the predictor should both have good combined performance and the performance of the classifiers, ideally, should be closer to each other.\n",
    "* The scoring script provided by organizers is a better descriptive of the performance\n",
    "* Using full training data set (as opposed to 70% split used for training & validation), slightly improves the performance\n",
    "* Non-cell-line specific GUILD features outperformed cell line specific features (without considering cell line specific combinations, results currently not generated due to the large number of runs $(120/2) * 119 * 83$ GUILD runs)\n",
    "* Challange 2 requires making predictions for cell lines and drug combinations for which no (or little) training data exists. This is a modeling task rather than machine learning task (as highlighted by the organizers). Potentially the drug response on a given cell line can be modeled using external data and a predictor of synergy based on the combination of these responses can be built. At the current stage, we treat this as a machine learning problem, building a binary classifier using the features in challange 1.\n",
    "* Combination of predictors improves the performance substantially\n",
    "\n",
    "## Final predictors and confidence assignment\n",
    "\n",
    ">***Predictor for challenge 1 subtask 1*** \n",
    "The best performing predictor using the response data and the features above achieves an accuracy (assessed by correlation between predicted and observed synergy scores) of 0.4 on the training set and 0.2 on the evaluation set. Note that the value on the training set fluctuates depending on the folds used in cross validation (+/- 0.1). \n",
    "\n",
    ">***Predictor for challenge 1 subtask 2*** \n",
    "Achieves an accuracy (assessed by correlation between predicted and observed synergy scores) of 0.4 on the training set and 0.15 on the evaluation set.\n",
    "    \n",
    ">***Predictor for challenge 2*** \n",
    "This challenge requires predicting drug combinations and cell lines for which no previous training data is available, thus makes it harder to find features that would work over all the test data (due to the missing values). The predictor achieves a F1 score of 0.64 on the training data set and 0.36 on the evaluation set.\n",
    "\n",
    ">***Confidence assignment***\n",
    "We observed that the predictions tend to fail for higher synergy scores, accordingly we defined the following confidence scoring:\n",
    "$$confidence = 1 - abs(synergy) / max(abs(synergy))$$\n",
    "\n",
    "## DREAM evaluation \n",
    "\n",
    ">The global correlation values from DREAM (assessed by real values in the test set) are substantially lower than the correlation values in the training set (assessed by model development on 70% of the training data using cross validation and validation using 30% of the data).\n",
    "* Challenge 1 subtask 1: 0.18 (global), 0.25 (mean of top 10-20-30%), \n",
    "* Challenge 1 subtask 2: 0.15 (global), 0.21 (mean of top 10-20-30%)\n",
    "* Challenge 2: 0.36 (global F1_20), 0.21 (mean 1-way row ANOVA of top 10-20-30%)\n",
    "* Overall ranking: among 20% of all submissions for challenge 1, among %70 for challange 2\n",
    "\n",
    "The table below shows global and top (corresponding to highest confidence 30%) performance for various tasks as well as the values for the best ranking submission. For challange 1 the global and top measures are global correlation and mean correlation over top 10-20-30%, respectively. For challenge 2, the global and top measures are F1 score (using Combofit score > 20) and mean 1-way row-wide ANOVA, respectively."
   ]
  },
  {
   "cell_type": "code",
   "execution_count": 8,
   "metadata": {
    "collapsed": false
   },
   "outputs": [
    {
     "data": {
      "text/html": [
       "<table>\n",
       "<thead><tr><th></th><th scope=col>Challange</th><th scope=col>X14A41.global</th><th scope=col>X14A41.top</th><th scope=col>Max.global</th><th scope=col>Max.top</th><th scope=col>Rank..top.based.</th><th scope=col>Submissions</th></tr></thead>\n",
       "<tbody>\n",
       "\t<tr><th scope=row>1</th><td>1A</td><td>0.18</td><td>0.25</td><td>0.27</td><td>0.37</td><td>21</td><td>139</td></tr>\n",
       "\t<tr><th scope=row>2</th><td>1B</td><td>0.15</td><td>0.21</td><td>0.25</td><td>0.32</td><td>26</td><td>112</td></tr>\n",
       "\t<tr><th scope=row>3</th><td>2</td><td>0.36</td><td>0.04</td><td>0.48</td><td>0.27</td><td>56</td><td>76</td></tr>\n",
       "</tbody>\n",
       "</table>\n"
      ],
      "text/latex": [
       "\\begin{tabular}{r|lllllll}\n",
       "  & Challange & X14A41.global & X14A41.top & Max.global & Max.top & Rank..top.based. & Submissions\\\\\n",
       "\\hline\n",
       "\t1 & 1A & 0.18 & 0.25 & 0.27 & 0.37 & 21 & 139\\\\\n",
       "\t2 & 1B & 0.15 & 0.21 & 0.25 & 0.32 & 26 & 112\\\\\n",
       "\t3 & 2 & 0.36 & 0.04 & 0.48 & 0.27 & 56 & 76\\\\\n",
       "\\end{tabular}\n"
      ],
      "text/plain": [
       "  Challange X14A41.global X14A41.top Max.global Max.top Rank..top.based.\n",
       "1        1A          0.18       0.25       0.27    0.37               21\n",
       "2        1B          0.15       0.21       0.25    0.32               26\n",
       "3         2          0.36       0.04       0.48    0.27               56\n",
       "  Submissions\n",
       "1         139\n",
       "2         112\n",
       "3          76"
      ]
     },
     "execution_count": 8,
     "metadata": {},
     "output_type": "execute_result"
    }
   ],
   "source": [
    "results(parameters, leaderboard=T)"
   ]
  },
  {
   "cell_type": "markdown",
   "metadata": {},
   "source": [
    "## TODO\n",
    "\n",
    "- ~~Enrich drug target data with SEA and HitPick predictions, filter no target drugs~~\n",
    "- ~~Check the labeling issue in challenge 2 (1:0, 2:1)~~\n",
    "- ~~Consider confidence scoring based on the sensitivity of the cell lines (Einf on the training cell lines or performance on the training data set)~~\n",
    "- ~~Try combination of all features (bottom of table)~~\n",
    "- ~~Check scoring evaluation scripts by DREAM~~\n",
    "- ~~Correct combination name bug~~\n",
    "- ~~Rerun GUILD~~\n",
    "- ~~Revise existing featuers (gexp / cnv)~~\n",
    "- ~~Redefine monotherapy response features (difference of A-B)~~\n",
    "- ~~Check different models / consider only using RF~~\n",
    "- Use several features proposed in Sun et al., 2015, Nat Comms \"Combining genomic and network characteristics for extended capability in predicting synergistic drugs for cancer\" http://www.nature.com/ncomms/2015/150928/ncomms9481/full/ncomms9481.html\n",
    "    + MI GO BP\n",
    "    + Unrelated pathway ratio\n",
    "    + ~~distance between targets in PPI~~\n",
    "    + ~~degree & centrality in PPI~~\n",
    "- ~~Add methylation-based features~~\n",
    "- GUILD top 500 vs 1000\n",
    "- Consider response prediction from molecular features to be fed to the synergy predictor\n",
    "- Incorporate external data / synergy modeling (for challange 2) \n"
   ]
  },
  {
   "cell_type": "code",
   "execution_count": null,
   "metadata": {
    "collapsed": true
   },
   "outputs": [],
   "source": []
  },
  {
   "cell_type": "code",
   "execution_count": null,
   "metadata": {
    "collapsed": true
   },
   "outputs": [],
   "source": []
  }
 ],
 "metadata": {
  "kernelspec": {
   "display_name": "R",
   "language": "R",
   "name": "ir"
  },
  "language_info": {
   "codemirror_mode": "r",
   "file_extension": ".r",
   "mimetype": "text/x-r-source",
   "name": "R",
   "pygments_lexer": "r",
   "version": "3.2.2"
  }
 },
 "nbformat": 4,
 "nbformat_minor": 0
}
