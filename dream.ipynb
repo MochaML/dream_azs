{
 "cells": [
  {
   "cell_type": "markdown",
   "metadata": {},
   "source": [
    "# Understanding molecular bases of drug response and drug synergy\n",
    "Understanding synergistic effects of drugs is key to develop effective intervention strategies targeting diseases (such as AD or T2D or both) and provides unprecedented opportunities to repurpose existing drugs. The AstraZeneca-Sanger Drug Combination Prediction DREAM Challenge provides a rich data source aiming to understand the synergistic drug behavior based on pretreatment data and spans cell viability data over 118 drugs and 85 cancer cell lines (primarily colon, lung, and breast). In collaborating with Dr. Baldo Oliva's group at GRIB, UPF-IMIM, we have been working on identifying the effects of confounding factors in the data set such as dosage and genetic background of the cell lines and developing algorithms that can predict the individual and synergistic effects of drugs. \n",
    "\n",
    "The challenge has two subtasks: predicting drug synergy *(i)* using mono synergy data *(ii)* without using mono synergy data. The participants are free to use any other data source (such as cell line gene expression, gene mutation, drug target information provided  in the challenge or external data sets) and submit their predictions in 3 rounds. \n",
    "\n",
    "<For the first round of the challenge, we have build machine learning models to predict the synergy of drugs for both of these tasks and choice the best performing models to submit predictions. Among various machine learning models, we found a combination of bootstrapped and ensemble tree-based predictors achieved best performance on the training data set for. \n",
    "\n",
    "To improve the prediction performance we have incorporated mutation data (of drug targets in a given cell line) and interactome based contribution of the drug combination compared to the effect of drugs separately. To assess interactome based contribution of a drug or combination (characterized by a set of targets), we have used GUILD, a network-based functional prioritization tool. \n",
    "\n",
    "Interestingly, using GUILD, only the predictions for subtask *(ii)* improved but not for subtask *(i)*. We suspect this is due to the mono therapy response data describing the synergy best and addition of new features (such as the ones based on expression, mutation, interactome) potentially causing the predictor to overfit to the training data set.>\n",
    "\n",
    "## Data overview\n",
    "<2199 samples>"
   ]
  },
  {
   "cell_type": "code",
   "execution_count": 34,
   "metadata": {
    "collapsed": false
   },
   "outputs": [
    {
     "data": {
      "text/html": [
       "2199"
      ],
      "text/latex": [
       "2199"
      ],
      "text/markdown": [
       "2199"
      ],
      "text/plain": [
       "[1] 2199"
      ]
     },
     "execution_count": 34,
     "metadata": {},
     "output_type": "execute_result"
    },
    {
     "data": {
      "text/plain": [
       "      CELL_LINE          COMPOUND_A       COMPOUND_B     MAX_CONC_A    \n",
       " CAMA-1    :  64   AKT        : 243   PIK3C    : 227   Min.   : 0.003  \n",
       " MDA-MB-468:  59   IAP        : 152   MTOR_1   : 220   1st Qu.: 1.000  \n",
       " HCC1187   :  57   AKT_1      : 151   MAP2K_1  : 198   Median : 1.000  \n",
       " HCC1395   :  56   BCL2_BCL2L1: 121   FGFR     : 156   Mean   : 1.721  \n",
       " HCC70     :  54   MAP2K_1    : 121   IAP      :  89   3rd Qu.: 3.000  \n",
       " MDA-MB-453:  52   ATR_4      : 107   CSNK2A1_2:  75   Max.   :10.000  \n",
       " (Other)   :1857   (Other)    :1304   (Other)  :1234                   \n",
       "   MAX_CONC_B         IC50_A               H_A              Einf_A      \n",
       " Min.   : 0.003   Min.   : 0.000003   Min.   : 0.0000   Min.   :  0.00  \n",
       " 1st Qu.: 1.000   1st Qu.: 0.072514   1st Qu.: 0.4777   1st Qu.: 11.82  \n",
       " Median : 1.000   Median : 0.344153   Median : 1.3273   Median : 42.90  \n",
       " Mean   : 4.956   Mean   : 0.731751   Mean   : 3.1060   Mean   : 46.72  \n",
       " 3rd Qu.: 3.000   3rd Qu.: 1.000000   3rd Qu.: 3.6625   3rd Qu.: 83.78  \n",
       " Max.   :75.000   Max.   :10.000000   Max.   :10.0000   Max.   :100.00  \n",
       "                                                                        \n",
       "     IC50_B             H_B              Einf_B       SYNERGY_SCORE     \n",
       " Min.   : 0.0000   Min.   : 0.0000   Min.   :  0.00   Min.   :-588.221  \n",
       " 1st Qu.: 0.1354   1st Qu.: 0.4195   1st Qu.: 12.55   1st Qu.:  -8.146  \n",
       " Median : 0.5286   Median : 1.2345   Median : 48.20   Median :   7.070  \n",
       " Mean   : 1.4526   Mean   : 3.0478   Mean   : 49.00   Mean   :   8.620  \n",
       " 3rd Qu.: 1.0000   3rd Qu.: 3.5532   3rd Qu.: 84.80   3rd Qu.:  25.385  \n",
       " Max.   :75.0000   Max.   :10.0000   Max.   :100.00   Max.   :6737.175  \n",
       "                                                                        \n",
       "       QA                  COMBINATION_ID\n",
       " Min.   :-3.0000   MAP2K_1.PIK3C  :  34  \n",
       " 1st Qu.: 1.0000   AKT.ERBB       :  31  \n",
       " Median : 1.0000   BRAF_M2.MAP2K_1:  30  \n",
       " Mean   : 0.5739   MAP2K_1.MTOR_1 :  30  \n",
       " 3rd Qu.: 1.0000   ERBB.MTOR_1    :  29  \n",
       " Max.   : 1.0000   AKT.FGFR       :  28  \n",
       "                   (Other)        :2017  "
      ]
     },
     "execution_count": 34,
     "metadata": {},
     "output_type": "execute_result"
    }
   ],
   "source": [
    "data.dir = \"../data/\"\n",
    "set.seed(142341)\n",
    "# Data overview\n",
    "file.name = \"Drug_synergy_data/ch1_train_combination_and_monoTherapy.csv\"\n",
    "f = read.csv(paste0(data.dir, file.name))\n",
    "nrow(f)\n",
    "summary(f)"
   ]
  },
  {
   "cell_type": "markdown",
   "metadata": {},
   "source": [
    "## Data filtering\n",
    "\n",
    "- Filter samples with low quality (404 samples)\n",
    "\n",
    "- Filter samples with low sensitivity, that is, $min((Einf_A + Einf_B) / 2) > 20$ (8 cell lines, 142 samples)"
   ]
  },
  {
   "cell_type": "code",
   "execution_count": 35,
   "metadata": {
    "collapsed": false
   },
   "outputs": [
    {
     "name": "stdout",
     "output_type": "stream",
     "text": [
      "[1] \"Number of samples with QA < 1: 404\"\n",
      "[1] \"Insensitive cell lines: 22RV1,CAL-120,HCC1143,HCC1428,HCC1937,KU-19-19,UACC-812,VCaP\"\n"
     ]
    },
    {
     "data": {
      "text/html": [
       "142"
      ],
      "text/latex": [
       "142"
      ],
      "text/markdown": [
       "142"
      ],
      "text/plain": [
       "[1] 142"
      ]
     },
     "execution_count": 35,
     "metadata": {},
     "output_type": "execute_result"
    },
    {
     "name": "stdout",
     "output_type": "stream",
     "text": [
      "[1] \"Correlation between einf.min and syn.med: -0.235249 0.031231\"\n",
      "[1] \"Correlated features:\"\n"
     ]
    }
   ],
   "source": [
    "require(plyr)\n",
    "f$cat = f[,\"SYNERGY_SCORE\"]\n",
    "print(sprintf(\"Number of samples with QA < 1: %d\", nrow(f[f$QA!=1,])))\n",
    "f = f[f$QA==1,]\n",
    "f$einf = (f$Einf_A + f$Einf_B) / 2\n",
    "a = ddply(f, ~ CELL_LINE, summarize, syn.sd = sd(cat), syn.min = min(cat), syn.med = median(cat), einf.sd = sd(einf), einf.min = min(einf), einf.med = median(einf))\n",
    "cutoff = 20 # 20 (8 cell lines) # 10 (22 cell lines)\n",
    "cell.lines = as.vector(a[a$einf.min>cutoff,\"CELL_LINE\"])\n",
    "print(sprintf(\"Insensitive cell lines: %s\", paste(cell.lines, collapse=\",\")))\n",
    "nrow(f[f$CELL_LINE %in% cell.lines,])\n",
    "f = f[!f$CELL_LINE %in% cell.lines,]\n",
    "# Cells with high min Einf has lower synergy\n",
    "b = cor.test(a$syn.med, a$einf.min, use=\"complete\")\n",
    "print(sprintf(\"Correlation between einf.min and syn.med: %f %f\", b$estimate[[1]], b$p.value)) # -0.235\n",
    "require(caret)\n",
    "# Find correlated features\n",
    "cor.mat = cor(f[,4:11])\n",
    "cor.idx = findCorrelation(cor.mat, cutoff = .75)\n",
    "print(c(\"Correlated features:\", colnames(f)[cor.idx]))\n"
   ]
  },
  {
   "cell_type": "markdown",
   "metadata": {},
   "source": [
    "## Feature definition\n",
    "\n",
    "- Monotherapy response based: \n",
    "    * max concentration\n",
    "    * viability at max kill\n",
    "    * IC50 \n",
    "    * slope of the fit to the dose response curve\n",
    "- Gene expression based\n",
    "    * target level\n",
    "    * pathway level\n",
    "- Mutation information based\n",
    "    * target level\n",
    "    * pathway level\n",
    "- GUILD prioritization based\n",
    "- Drug similarity based\n",
    "    * chemical formula\n",
    "    * common targets"
   ]
  },
  {
   "cell_type": "code",
   "execution_count": null,
   "metadata": {
    "collapsed": true
   },
   "outputs": [],
   "source": []
  }
 ],
 "metadata": {
  "kernelspec": {
   "display_name": "R",
   "language": "R",
   "name": "ir"
  },
  "language_info": {
   "codemirror_mode": "r",
   "file_extension": ".r",
   "mimetype": "text/x-r-source",
   "name": "R",
   "pygments_lexer": "r",
   "version": "3.2.2"
  }
 },
 "nbformat": 4,
 "nbformat_minor": 0
}
